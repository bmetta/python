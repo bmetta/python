{
 "cells": [
  {
   "cell_type": "markdown",
   "metadata": {},
   "source": [
    "### OrderedDict\n",
    "With an OrderedDict, the order of insertion is maintained when key and values are inserted into the dictionary"
   ]
  },
  {
   "cell_type": "code",
   "execution_count": 1,
   "metadata": {},
   "outputs": [],
   "source": [
    "from collections import OrderedDict"
   ]
  },
  {
   "cell_type": "code",
   "execution_count": 2,
   "metadata": {},
   "outputs": [],
   "source": [
    "student_rollno = [(11, \"Ram\"),\n",
    "                  (12, \"Shiva\"),\n",
    "                  (13, \"Krishna\")]"
   ]
  },
  {
   "cell_type": "code",
   "execution_count": 3,
   "metadata": {},
   "outputs": [],
   "source": [
    "roll_no = OrderedDict(student_rollno)"
   ]
  },
  {
   "cell_type": "code",
   "execution_count": 4,
   "metadata": {},
   "outputs": [
    {
     "data": {
      "text/plain": [
       "odict_keys([11, 12, 13])"
      ]
     },
     "execution_count": 4,
     "metadata": {},
     "output_type": "execute_result"
    }
   ],
   "source": [
    "roll_no.keys()"
   ]
  },
  {
   "cell_type": "code",
   "execution_count": 5,
   "metadata": {},
   "outputs": [
    {
     "data": {
      "text/plain": [
       "odict_values(['Ram', 'Shiva', 'Krishna'])"
      ]
     },
     "execution_count": 5,
     "metadata": {},
     "output_type": "execute_result"
    }
   ],
   "source": [
    "roll_no.values()"
   ]
  },
  {
   "cell_type": "code",
   "execution_count": 6,
   "metadata": {},
   "outputs": [
    {
     "data": {
      "text/plain": [
       "odict_items([(11, 'Ram'), (12, 'Shiva'), (13, 'Krishna')])"
      ]
     },
     "execution_count": 6,
     "metadata": {},
     "output_type": "execute_result"
    }
   ],
   "source": [
    "roll_no.items()"
   ]
  },
  {
   "cell_type": "code",
   "execution_count": 7,
   "metadata": {},
   "outputs": [
    {
     "name": "stdout",
     "output_type": "stream",
     "text": [
      "11 Ram\n",
      "12 Shiva\n",
      "13 Krishna\n"
     ]
    }
   ],
   "source": [
    "for key, value in roll_no.items():\n",
    "    print (key, value)"
   ]
  },
  {
   "cell_type": "code",
   "execution_count": 8,
   "metadata": {},
   "outputs": [],
   "source": [
    "student_marks = [(\"Ram\", 90),\n",
    "                 (\"Shiva\", 95),\n",
    "                 (\"Krishna\", 92),\n",
    "                 (\"Krishna\", 90)]"
   ]
  },
  {
   "cell_type": "code",
   "execution_count": 9,
   "metadata": {},
   "outputs": [],
   "source": [
    "marks = OrderedDict(student_marks)"
   ]
  },
  {
   "cell_type": "code",
   "execution_count": 11,
   "metadata": {},
   "outputs": [
    {
     "data": {
      "text/plain": [
       "odict_items([('Ram', 90), ('Shiva', 95), ('Krishna', 90)])"
      ]
     },
     "execution_count": 11,
     "metadata": {},
     "output_type": "execute_result"
    }
   ],
   "source": [
    "marks.items()"
   ]
  },
  {
   "cell_type": "code",
   "execution_count": null,
   "metadata": {},
   "outputs": [],
   "source": []
  },
  {
   "cell_type": "markdown",
   "metadata": {},
   "source": [
    "### defaultdict\n",
    "The default dictionary can contain duplicate keys. The advantage of using default dictionary is that we can collect items which belong to the same key\n",
    "https://shirishweb.wordpress.com/2017/05/06/python-defaultdict-versus-dict-get/"
   ]
  },
  {
   "cell_type": "code",
   "execution_count": 16,
   "metadata": {},
   "outputs": [],
   "source": [
    "from collections import defaultdict"
   ]
  },
  {
   "cell_type": "code",
   "execution_count": 17,
   "metadata": {},
   "outputs": [],
   "source": [
    "student_marks = [(\"Ram\", 90),\n",
    "                 (\"Shiva\", 95),\n",
    "                 (\"Krishna\", 92),\n",
    "                 (\"Krishna\", 90)]"
   ]
  },
  {
   "cell_type": "code",
   "execution_count": 18,
   "metadata": {},
   "outputs": [],
   "source": [
    "dict_marks = defaultdict(list)"
   ]
  },
  {
   "cell_type": "code",
   "execution_count": 19,
   "metadata": {},
   "outputs": [],
   "source": [
    "for key, value in student_marks:\n",
    "    dict_marks[key].append(value)"
   ]
  },
  {
   "cell_type": "code",
   "execution_count": 20,
   "metadata": {},
   "outputs": [
    {
     "data": {
      "text/plain": [
       "dict_items([('Ram', [90]), ('Shiva', [95]), ('Krishna', [92, 90])])"
      ]
     },
     "execution_count": 20,
     "metadata": {},
     "output_type": "execute_result"
    }
   ],
   "source": [
    "dict_marks.items()"
   ]
  },
  {
   "cell_type": "code",
   "execution_count": null,
   "metadata": {},
   "outputs": [],
   "source": []
  },
  {
   "cell_type": "code",
   "execution_count": 11,
   "metadata": {},
   "outputs": [
    {
     "name": "stdout",
     "output_type": "stream",
     "text": [
      "{1: ['1'], 2: ['1', '2'], 3: ['2', '3'], 4: ['3']}\n"
     ]
    }
   ],
   "source": [
    "# Creating an empty dict \n",
    "myDict = dict() \n",
    "  \n",
    "# Creating a list \n",
    "valList = ['1', '2', '3'] \n",
    "  \n",
    "# Iterating the elements in list \n",
    "for val in valList: \n",
    "    for ele in range(int(val), int(val) + 2):  \n",
    "        myDict.setdefault(ele, []).append(val) \n",
    "\n",
    "print(myDict) "
   ]
  },
  {
   "cell_type": "markdown",
   "metadata": {},
   "source": [
    "### Counter\n",
    "The Counter collections allow us to keep a count of all the items which are inserted into the collection with the keys"
   ]
  },
  {
   "cell_type": "code",
   "execution_count": 44,
   "metadata": {},
   "outputs": [],
   "source": [
    "from collections import Counter"
   ]
  },
  {
   "cell_type": "code",
   "execution_count": 45,
   "metadata": {},
   "outputs": [],
   "source": [
    "count = Counter(name for name, marks in student_marks)"
   ]
  },
  {
   "cell_type": "code",
   "execution_count": 48,
   "metadata": {},
   "outputs": [
    {
     "data": {
      "text/plain": [
       "dict_items([('Ram', 1), ('Shiva', 1), ('Krishna', 2)])"
      ]
     },
     "execution_count": 48,
     "metadata": {},
     "output_type": "execute_result"
    }
   ],
   "source": [
    "count.items()"
   ]
  },
  {
   "cell_type": "markdown",
   "metadata": {},
   "source": [
    "### deque([iterable[, maxlen]])\n",
    "A Deque is a double-ended queue which allows us to add and remove elements from both the ends. This enhances the capabilities of a stack or a queue.\n",
    "* Indexed access is O(1) at both ends but slows to O(n) in the middle. For fast random access, use lists instead.\n",
    "* Adding to or removing from the beginning of a list is O(n), but fetching elements from the middle is O(1). For a deque, the reverse is true."
   ]
  },
  {
   "cell_type": "code",
   "execution_count": 2,
   "metadata": {},
   "outputs": [],
   "source": [
    "from collections import deque"
   ]
  },
  {
   "cell_type": "code",
   "execution_count": 3,
   "metadata": {
    "scrolled": true
   },
   "outputs": [
    {
     "name": "stdout",
     "output_type": "stream",
     "text": [
      "deque([0, 1, 2, 3, 4, 5, 6, 7, 8, 9])\n"
     ]
    }
   ],
   "source": [
    "numbers = deque(range(0, 10))\n",
    "print (numbers)\n",
    "#numbers.rotate()"
   ]
  },
  {
   "cell_type": "code",
   "execution_count": 8,
   "metadata": {},
   "outputs": [
    {
     "name": "stdout",
     "output_type": "stream",
     "text": [
      "deque(['third', 'second', 'first'])\n",
      "first\n",
      "deque(['third', 'second'])\n",
      "deque(['third', 'second', 'fourth'])\n",
      "deque(['second', 'fourth'])\n"
     ]
    }
   ],
   "source": [
    "queue = deque()\n",
    "queue.appendleft(\"first\")\n",
    "queue.appendleft(\"second\")\n",
    "queue.appendleft(\"third\")\n",
    "print (queue)\n",
    "\n",
    "print (queue.pop())\n",
    "print (queue)\n",
    "queue.append(\"fourth\")\n",
    "print (queue)\n",
    "queue.popleft()\n",
    "print (queue)"
   ]
  },
  {
   "cell_type": "markdown",
   "metadata": {},
   "source": [
    "### Heap"
   ]
  },
  {
   "cell_type": "code",
   "execution_count": 20,
   "metadata": {},
   "outputs": [],
   "source": [
    "# min heap\n",
    "import heapq\n",
    "def minHeap(arr):\n",
    "    heapq.heapify(arr)\n",
    "    print(arr)\n",
    "    \n",
    "    print(heapq.heappop(arr))\n",
    "    print(arr)\n",
    "    \n",
    "    heapq.heappush(arr, 15)\n",
    "    print(arr)"
   ]
  },
  {
   "cell_type": "code",
   "execution_count": 22,
   "metadata": {},
   "outputs": [
    {
     "name": "stdout",
     "output_type": "stream",
     "text": [
      "[12, 16, 13, 31, 21, 35, 17, 38, 63, 41, 55]\n",
      "12\n",
      "[13, 16, 17, 31, 21, 35, 55, 38, 63, 41]\n",
      "[13, 15, 17, 31, 16, 35, 55, 38, 63, 41, 21]\n"
     ]
    }
   ],
   "source": [
    "minHeap([55, 21, 17, 63, 16, 35, 13, 38, 31, 41, 12])"
   ]
  },
  {
   "cell_type": "code",
   "execution_count": 26,
   "metadata": {},
   "outputs": [],
   "source": [
    "# max heap\n",
    "import heapq\n",
    "def maxHeap(arr):\n",
    "    heapq._heapify_max(arr)\n",
    "    print(arr)\n",
    "    \n",
    "    print(heapq._heappop_max(arr))\n",
    "    print(arr)\n",
    "    \n",
    "    heapq.heappush(arr, 15)\n",
    "    heapq._heapify_max(arr)\n",
    "    print(arr)"
   ]
  },
  {
   "cell_type": "code",
   "execution_count": 27,
   "metadata": {},
   "outputs": [
    {
     "name": "stdout",
     "output_type": "stream",
     "text": [
      "[63, 55, 35, 38, 41, 17, 13, 21, 31, 16, 12]\n",
      "63\n",
      "[55, 41, 35, 38, 16, 17, 13, 21, 31, 12]\n",
      "[55, 41, 35, 38, 16, 17, 13, 21, 31, 12, 15]\n"
     ]
    }
   ],
   "source": [
    "maxHeap([55, 21, 17, 63, 16, 35, 13, 38, 31, 41, 12])"
   ]
  },
  {
   "cell_type": "markdown",
   "metadata": {},
   "source": [
    "### Priority Queue"
   ]
  },
  {
   "cell_type": "code",
   "execution_count": 42,
   "metadata": {},
   "outputs": [
    {
     "name": "stdout",
     "output_type": "stream",
     "text": [
      "(1, 2)\n",
      "(1, 3)\n",
      "(5, 10)\n",
      "(6, 10)\n",
      "(10, (0, 1))\n",
      "(10, (1, 2))\n"
     ]
    }
   ],
   "source": [
    "from queue import PriorityQueue\n",
    "q = PriorityQueue()\n",
    "q.put((10, (1, 2)))\n",
    "q.put((10, (0, 1)))\n",
    "q.put((1, 2))\n",
    "q.put((1, 3))\n",
    "q.put((5, 10))\n",
    "q.put((6, 10))\n",
    "print(q.get())\n",
    "print(q.get())\n",
    "print(q.get())\n",
    "print(q.get())\n",
    "print(q.get())\n",
    "print(q.get())"
   ]
  },
  {
   "cell_type": "code",
   "execution_count": null,
   "metadata": {},
   "outputs": [],
   "source": []
  },
  {
   "cell_type": "code",
   "execution_count": null,
   "metadata": {},
   "outputs": [],
   "source": []
  },
  {
   "cell_type": "code",
   "execution_count": null,
   "metadata": {},
   "outputs": [],
   "source": []
  },
  {
   "cell_type": "code",
   "execution_count": null,
   "metadata": {},
   "outputs": [],
   "source": []
  },
  {
   "cell_type": "code",
   "execution_count": null,
   "metadata": {},
   "outputs": [],
   "source": []
  },
  {
   "cell_type": "code",
   "execution_count": null,
   "metadata": {},
   "outputs": [],
   "source": []
  },
  {
   "cell_type": "code",
   "execution_count": null,
   "metadata": {},
   "outputs": [],
   "source": []
  },
  {
   "cell_type": "code",
   "execution_count": null,
   "metadata": {},
   "outputs": [],
   "source": []
  },
  {
   "cell_type": "code",
   "execution_count": null,
   "metadata": {},
   "outputs": [],
   "source": []
  }
 ],
 "metadata": {
  "kernelspec": {
   "display_name": "Python 3",
   "language": "python",
   "name": "python3"
  },
  "language_info": {
   "codemirror_mode": {
    "name": "ipython",
    "version": 3
   },
   "file_extension": ".py",
   "mimetype": "text/x-python",
   "name": "python",
   "nbconvert_exporter": "python",
   "pygments_lexer": "ipython3",
   "version": "3.6.5"
  }
 },
 "nbformat": 4,
 "nbformat_minor": 2
}
