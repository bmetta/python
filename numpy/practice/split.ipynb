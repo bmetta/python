{
 "cells": [
  {
   "cell_type": "code",
   "execution_count": 1,
   "metadata": {},
   "outputs": [],
   "source": [
    "import numpy as np"
   ]
  },
  {
   "cell_type": "markdown",
   "metadata": {},
   "source": [
    "### split(ary, indices_or_sections, axis=0)\n",
    "Split an array into multiple sub-arrays"
   ]
  },
  {
   "cell_type": "code",
   "execution_count": 91,
   "metadata": {},
   "outputs": [
    {
     "name": "stdout",
     "output_type": "stream",
     "text": [
      "(9,)\n"
     ]
    }
   ],
   "source": [
    "x = np.arange(9)\n",
    "print (x.shape)"
   ]
  },
  {
   "cell_type": "code",
   "execution_count": 93,
   "metadata": {},
   "outputs": [
    {
     "name": "stdout",
     "output_type": "stream",
     "text": [
      "(3,)\n",
      "[array([0, 1, 2]), array([3, 4, 5]), array([6, 7, 8])]\n"
     ]
    }
   ],
   "source": [
    "out = np.split(x, 3)\n",
    "print (out[0].shape)\n",
    "print (out)"
   ]
  },
  {
   "cell_type": "code",
   "execution_count": 7,
   "metadata": {},
   "outputs": [],
   "source": [
    "x = np.arange(8)"
   ]
  },
  {
   "cell_type": "code",
   "execution_count": 8,
   "metadata": {},
   "outputs": [
    {
     "data": {
      "text/plain": [
       "[array([0, 1, 2]),\n",
       " array([3, 4]),\n",
       " array([5]),\n",
       " array([6, 7]),\n",
       " array([], dtype=int64)]"
      ]
     },
     "execution_count": 8,
     "metadata": {},
     "output_type": "execute_result"
    }
   ],
   "source": [
    "np.split(x, [3, 5, 6, 10])"
   ]
  },
  {
   "cell_type": "code",
   "execution_count": 124,
   "metadata": {},
   "outputs": [
    {
     "data": {
      "text/plain": [
       "array([[[ 0,  1,  2,  3,  4,  5],\n",
       "        [ 6,  7,  8,  9, 10, 11],\n",
       "        [12, 13, 14, 15, 16, 17],\n",
       "        [18, 19, 20, 21, 22, 23]],\n",
       "\n",
       "       [[24, 25, 26, 27, 28, 29],\n",
       "        [30, 31, 32, 33, 34, 35],\n",
       "        [36, 37, 38, 39, 40, 41],\n",
       "        [42, 43, 44, 45, 46, 47]]])"
      ]
     },
     "execution_count": 124,
     "metadata": {},
     "output_type": "execute_result"
    }
   ],
   "source": [
    "x = np.arange(48).reshape(2, 4, 6)\n",
    "x"
   ]
  },
  {
   "cell_type": "code",
   "execution_count": 125,
   "metadata": {},
   "outputs": [
    {
     "name": "stdout",
     "output_type": "stream",
     "text": [
      "(1, 4, 6)\n",
      "[array([[[ 0,  1,  2,  3,  4,  5],\n",
      "        [ 6,  7,  8,  9, 10, 11],\n",
      "        [12, 13, 14, 15, 16, 17],\n",
      "        [18, 19, 20, 21, 22, 23]]]), array([[[24, 25, 26, 27, 28, 29],\n",
      "        [30, 31, 32, 33, 34, 35],\n",
      "        [36, 37, 38, 39, 40, 41],\n",
      "        [42, 43, 44, 45, 46, 47]]])]\n"
     ]
    }
   ],
   "source": [
    "out = np.split(x, 2, axis=0)\n",
    "print (out[0].shape)\n",
    "print (out)"
   ]
  },
  {
   "cell_type": "code",
   "execution_count": 126,
   "metadata": {},
   "outputs": [
    {
     "name": "stdout",
     "output_type": "stream",
     "text": [
      "(2, 2, 6)\n",
      "[array([[[ 0,  1,  2,  3,  4,  5],\n",
      "        [ 6,  7,  8,  9, 10, 11]],\n",
      "\n",
      "       [[24, 25, 26, 27, 28, 29],\n",
      "        [30, 31, 32, 33, 34, 35]]]), array([[[12, 13, 14, 15, 16, 17],\n",
      "        [18, 19, 20, 21, 22, 23]],\n",
      "\n",
      "       [[36, 37, 38, 39, 40, 41],\n",
      "        [42, 43, 44, 45, 46, 47]]])]\n"
     ]
    }
   ],
   "source": [
    "out = np.split(x, 2, axis=1)\n",
    "print (out[0].shape)\n",
    "print (out)"
   ]
  },
  {
   "cell_type": "code",
   "execution_count": 127,
   "metadata": {},
   "outputs": [
    {
     "name": "stdout",
     "output_type": "stream",
     "text": [
      "(2, 4, 3)\n",
      "[array([[[ 0,  1,  2],\n",
      "        [ 6,  7,  8],\n",
      "        [12, 13, 14],\n",
      "        [18, 19, 20]],\n",
      "\n",
      "       [[24, 25, 26],\n",
      "        [30, 31, 32],\n",
      "        [36, 37, 38],\n",
      "        [42, 43, 44]]]), array([[[ 3,  4,  5],\n",
      "        [ 9, 10, 11],\n",
      "        [15, 16, 17],\n",
      "        [21, 22, 23]],\n",
      "\n",
      "       [[27, 28, 29],\n",
      "        [33, 34, 35],\n",
      "        [39, 40, 41],\n",
      "        [45, 46, 47]]])]\n"
     ]
    }
   ],
   "source": [
    "out = np.split(x, 2, axis=2)\n",
    "print (out[0].shape)\n",
    "print (out)"
   ]
  },
  {
   "cell_type": "markdown",
   "metadata": {},
   "source": [
    "### array_split(ary, indices_or_sections, axis=0)\n",
    "Split an array into multiple sub-arrays\n",
    "\n",
    "difference between split and array_split functions is that array_split allows indices_or_sections to be an integer that does not equally divide the axis. For an array of length l that should be split into n sections, it returns l % n sub-arrays of size l//n + 1 and the rest of size l//n."
   ]
  },
  {
   "cell_type": "code",
   "execution_count": 9,
   "metadata": {},
   "outputs": [],
   "source": [
    "x = np.arange(8)"
   ]
  },
  {
   "cell_type": "code",
   "execution_count": 10,
   "metadata": {},
   "outputs": [
    {
     "data": {
      "text/plain": [
       "[array([0, 1, 2]), array([3, 4, 5]), array([6, 7])]"
      ]
     },
     "execution_count": 10,
     "metadata": {},
     "output_type": "execute_result"
    }
   ],
   "source": [
    "np.array_split(x, 3)"
   ]
  },
  {
   "cell_type": "code",
   "execution_count": 12,
   "metadata": {},
   "outputs": [],
   "source": [
    "x = np.arange(7)"
   ]
  },
  {
   "cell_type": "code",
   "execution_count": 13,
   "metadata": {},
   "outputs": [
    {
     "data": {
      "text/plain": [
       "[array([0, 1, 2]), array([3, 4]), array([5, 6])]"
      ]
     },
     "execution_count": 13,
     "metadata": {},
     "output_type": "execute_result"
    }
   ],
   "source": [
    "np.array_split(x, 3)"
   ]
  },
  {
   "cell_type": "code",
   "execution_count": null,
   "metadata": {},
   "outputs": [],
   "source": []
  },
  {
   "cell_type": "markdown",
   "metadata": {},
   "source": [
    "### dsplit(ary, indices_or_sections)\n",
    "Split array into multiple sub-arrays along the 3rd axis (depth).\n",
    "\n",
    "dsplit is equivalent to split with axis=2, the array is always split along the third axis provided the array dimension is greater than or equal to 3"
   ]
  },
  {
   "cell_type": "code",
   "execution_count": 128,
   "metadata": {
    "scrolled": true
   },
   "outputs": [
    {
     "data": {
      "text/plain": [
       "array([[[ 0,  1,  2,  3],\n",
       "        [ 4,  5,  6,  7],\n",
       "        [ 8,  9, 10, 11]],\n",
       "\n",
       "       [[12, 13, 14, 15],\n",
       "        [16, 17, 18, 19],\n",
       "        [20, 21, 22, 23]]])"
      ]
     },
     "execution_count": 128,
     "metadata": {},
     "output_type": "execute_result"
    }
   ],
   "source": [
    "x = np.arange(24).reshape(2, 3, 4)\n",
    "x"
   ]
  },
  {
   "cell_type": "code",
   "execution_count": 129,
   "metadata": {},
   "outputs": [
    {
     "name": "stdout",
     "output_type": "stream",
     "text": [
      "(2, 3, 2)\n",
      "[array([[[ 0,  1],\n",
      "        [ 4,  5],\n",
      "        [ 8,  9]],\n",
      "\n",
      "       [[12, 13],\n",
      "        [16, 17],\n",
      "        [20, 21]]]), array([[[ 2,  3],\n",
      "        [ 6,  7],\n",
      "        [10, 11]],\n",
      "\n",
      "       [[14, 15],\n",
      "        [18, 19],\n",
      "        [22, 23]]])]\n"
     ]
    }
   ],
   "source": [
    "out = np.dsplit(x, 2)\n",
    "print (out[0].shape)\n",
    "print (out)"
   ]
  },
  {
   "cell_type": "code",
   "execution_count": 120,
   "metadata": {},
   "outputs": [
    {
     "name": "stdout",
     "output_type": "stream",
     "text": [
      "(2, 3, 2)\n",
      "[array([[[ 0,  1],\n",
      "        [ 4,  5],\n",
      "        [ 8,  9]],\n",
      "\n",
      "       [[12, 13],\n",
      "        [16, 17],\n",
      "        [20, 21]]]), array([[[ 2],\n",
      "        [ 6],\n",
      "        [10]],\n",
      "\n",
      "       [[14],\n",
      "        [18],\n",
      "        [22]]]), array([[[ 3],\n",
      "        [ 7],\n",
      "        [11]],\n",
      "\n",
      "       [[15],\n",
      "        [19],\n",
      "        [23]]])]\n"
     ]
    }
   ],
   "source": [
    "out = np.dsplit(x, np.array([2, 3]))\n",
    "print (out[0].shape)\n",
    "print (out)"
   ]
  },
  {
   "cell_type": "code",
   "execution_count": null,
   "metadata": {},
   "outputs": [],
   "source": []
  },
  {
   "cell_type": "markdown",
   "metadata": {},
   "source": [
    "### hsplit(ary, indices_or_sections)\n",
    "Split an array into multiple sub-arrays horizontally (column-wise).\n",
    "\n",
    "hsplit is equivalent to split with axis=1, the array is always split along the second axis regardless of the array dimension"
   ]
  },
  {
   "cell_type": "code",
   "execution_count": 130,
   "metadata": {},
   "outputs": [
    {
     "data": {
      "text/plain": [
       "array([[[ 0,  1,  2,  3],\n",
       "        [ 4,  5,  6,  7]],\n",
       "\n",
       "       [[ 8,  9, 10, 11],\n",
       "        [12, 13, 14, 15]]])"
      ]
     },
     "execution_count": 130,
     "metadata": {},
     "output_type": "execute_result"
    }
   ],
   "source": [
    "x = np.arange(16).reshape(2, 2, 4)\n",
    "x"
   ]
  },
  {
   "cell_type": "code",
   "execution_count": 131,
   "metadata": {},
   "outputs": [
    {
     "name": "stdout",
     "output_type": "stream",
     "text": [
      "(2, 1, 4)\n",
      "[array([[[ 0,  1,  2,  3]],\n",
      "\n",
      "       [[ 8,  9, 10, 11]]]), array([[[ 4,  5,  6,  7]],\n",
      "\n",
      "       [[12, 13, 14, 15]]])]\n"
     ]
    }
   ],
   "source": [
    "out = np.hsplit(x, 2)\n",
    "print (out[0].shape)\n",
    "print (out)"
   ]
  },
  {
   "cell_type": "code",
   "execution_count": 105,
   "metadata": {},
   "outputs": [
    {
     "data": {
      "text/plain": [
       "array([[ 0.,  1.,  2.,  3.],\n",
       "       [ 4.,  5.,  6.,  7.],\n",
       "       [ 8.,  9., 10., 11.],\n",
       "       [12., 13., 14., 15.]])"
      ]
     },
     "execution_count": 105,
     "metadata": {},
     "output_type": "execute_result"
    }
   ],
   "source": [
    "x = np.arange(16.0).reshape(4, 4)\n",
    "x"
   ]
  },
  {
   "cell_type": "code",
   "execution_count": 106,
   "metadata": {},
   "outputs": [
    {
     "name": "stdout",
     "output_type": "stream",
     "text": [
      "(4, 2)\n",
      "[array([[ 0.,  1.],\n",
      "       [ 4.,  5.],\n",
      "       [ 8.,  9.],\n",
      "       [12., 13.]]), array([[ 2.,  3.],\n",
      "       [ 6.,  7.],\n",
      "       [10., 11.],\n",
      "       [14., 15.]])]\n"
     ]
    }
   ],
   "source": [
    "out = np.hsplit(x, 2)\n",
    "print (out[0].shape)\n",
    "print (out)"
   ]
  },
  {
   "cell_type": "code",
   "execution_count": null,
   "metadata": {},
   "outputs": [],
   "source": []
  },
  {
   "cell_type": "markdown",
   "metadata": {},
   "source": [
    "### vsplit(ary, indices_or_sections)\n",
    "Split an array into multiple sub-arrays vertically (row-wise).\n",
    "\n",
    "Please refer to the split documentation. vsplit is equivalent to split with axis=0 (default), the array is always split along the first axis regardless of the array dimension."
   ]
  },
  {
   "cell_type": "code",
   "execution_count": 141,
   "metadata": {},
   "outputs": [
    {
     "data": {
      "text/plain": [
       "array([[ 0.,  1.,  2.,  3.],\n",
       "       [ 4.,  5.,  6.,  7.],\n",
       "       [ 8.,  9., 10., 11.],\n",
       "       [12., 13., 14., 15.]])"
      ]
     },
     "execution_count": 141,
     "metadata": {},
     "output_type": "execute_result"
    }
   ],
   "source": [
    "x = np.arange(16.0).reshape(4, 4)\n",
    "x"
   ]
  },
  {
   "cell_type": "code",
   "execution_count": 142,
   "metadata": {},
   "outputs": [
    {
     "name": "stdout",
     "output_type": "stream",
     "text": [
      "(2, 4)\n",
      "[array([[0., 1., 2., 3.],\n",
      "       [4., 5., 6., 7.]]), array([[ 8.,  9., 10., 11.],\n",
      "       [12., 13., 14., 15.]])]\n"
     ]
    }
   ],
   "source": [
    "out = np.vsplit(x, 2)\n",
    "print (out[0].shape)\n",
    "print (out)"
   ]
  },
  {
   "cell_type": "code",
   "execution_count": 143,
   "metadata": {},
   "outputs": [
    {
     "data": {
      "text/plain": [
       "[array([[ 0.,  1.,  2.,  3.],\n",
       "        [ 4.,  5.,  6.,  7.],\n",
       "        [ 8.,  9., 10., 11.]]),\n",
       " array([[12., 13., 14., 15.]]),\n",
       " array([], shape=(0, 4), dtype=float64)]"
      ]
     },
     "execution_count": 143,
     "metadata": {},
     "output_type": "execute_result"
    }
   ],
   "source": [
    "np.vsplit(x, np.array([3, 6]))"
   ]
  },
  {
   "cell_type": "code",
   "execution_count": 144,
   "metadata": {},
   "outputs": [
    {
     "data": {
      "text/plain": [
       "array([[[ 0,  1,  2,  3],\n",
       "        [ 4,  5,  6,  7]],\n",
       "\n",
       "       [[ 8,  9, 10, 11],\n",
       "        [12, 13, 14, 15]]])"
      ]
     },
     "execution_count": 144,
     "metadata": {},
     "output_type": "execute_result"
    }
   ],
   "source": [
    "x = np.arange(16).reshape(2, 2, 4)\n",
    "x"
   ]
  },
  {
   "cell_type": "code",
   "execution_count": 145,
   "metadata": {},
   "outputs": [
    {
     "name": "stdout",
     "output_type": "stream",
     "text": [
      "(1, 2, 4)\n",
      "[array([[[0, 1, 2, 3],\n",
      "        [4, 5, 6, 7]]]), array([[[ 8,  9, 10, 11],\n",
      "        [12, 13, 14, 15]]])]\n"
     ]
    }
   ],
   "source": [
    "out = np.vsplit(x, 2)\n",
    "print (out[0].shape)\n",
    "print (out)"
   ]
  },
  {
   "cell_type": "code",
   "execution_count": null,
   "metadata": {},
   "outputs": [],
   "source": []
  }
 ],
 "metadata": {
  "kernelspec": {
   "display_name": "Python 3",
   "language": "python",
   "name": "python3"
  },
  "language_info": {
   "codemirror_mode": {
    "name": "ipython",
    "version": 3
   },
   "file_extension": ".py",
   "mimetype": "text/x-python",
   "name": "python",
   "nbconvert_exporter": "python",
   "pygments_lexer": "ipython3",
   "version": "3.6.5"
  }
 },
 "nbformat": 4,
 "nbformat_minor": 2
}
