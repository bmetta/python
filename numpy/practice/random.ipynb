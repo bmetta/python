{
 "cells": [
  {
   "cell_type": "code",
   "execution_count": 1,
   "metadata": {},
   "outputs": [],
   "source": [
    "import numpy as np"
   ]
  },
  {
   "cell_type": "markdown",
   "metadata": {},
   "source": [
    "### rand(d0, d1, ..., dn)\n",
    "Random values in a given shape."
   ]
  },
  {
   "cell_type": "code",
   "execution_count": 7,
   "metadata": {},
   "outputs": [
    {
     "data": {
      "text/plain": [
       "0.08923191740587988"
      ]
     },
     "execution_count": 7,
     "metadata": {},
     "output_type": "execute_result"
    }
   ],
   "source": [
    "np.random.rand()"
   ]
  },
  {
   "cell_type": "code",
   "execution_count": 17,
   "metadata": {
    "scrolled": true
   },
   "outputs": [
    {
     "name": "stdout",
     "output_type": "stream",
     "text": [
      "[[0.12364421 0.92119417 0.01977332 0.0180424 ]\n",
      " [0.92873579 0.66529678 0.01786404 0.83613377]\n",
      " [0.76472234 0.90122516 0.3344215  0.97219222]]\n"
     ]
    }
   ],
   "source": [
    "a = np.random.rand(3, 4)\n",
    "print(a)"
   ]
  },
  {
   "cell_type": "markdown",
   "metadata": {},
   "source": [
    "### randn(d0, d1, ..., dn)\n",
    "Return a sample (or samples) from the “standard normal” distribution."
   ]
  },
  {
   "cell_type": "code",
   "execution_count": 27,
   "metadata": {},
   "outputs": [
    {
     "name": "stdout",
     "output_type": "stream",
     "text": [
      "[[ 0.38356067 -1.55691682 -0.55046766]\n",
      " [ 0.25253107  0.27218172 -0.7956834 ]]\n"
     ]
    }
   ],
   "source": [
    "a = np.random.randn(2, 3)\n",
    "print(a)"
   ]
  },
  {
   "cell_type": "markdown",
   "metadata": {},
   "source": [
    "### randint(low, high=None, size=None, dtype='l')\n",
    "Return random integers from [low, high)\n",
    "\n",
    "If high is None (the default), then results are from [0, low)"
   ]
  },
  {
   "cell_type": "code",
   "execution_count": 24,
   "metadata": {},
   "outputs": [
    {
     "name": "stdout",
     "output_type": "stream",
     "text": [
      "[2 1 1 1 1 1 0 0 2 1]\n"
     ]
    }
   ],
   "source": [
    "a = np.random.randint(3, size=10)\n",
    "print(a)"
   ]
  },
  {
   "cell_type": "code",
   "execution_count": 25,
   "metadata": {},
   "outputs": [
    {
     "name": "stdout",
     "output_type": "stream",
     "text": [
      "[[2 1 2 2]\n",
      " [2 1 1 1]]\n"
     ]
    }
   ],
   "source": [
    "a = np.random.randint(3, size=(2, 4))\n",
    "print(a)"
   ]
  },
  {
   "cell_type": "markdown",
   "metadata": {},
   "source": [
    "### random_sample(size=None)\n",
    "### random(size=None)\n",
    "Return random floats in the half-open interval [0.0, 1.0)"
   ]
  },
  {
   "cell_type": "code",
   "execution_count": 33,
   "metadata": {},
   "outputs": [
    {
     "name": "stdout",
     "output_type": "stream",
     "text": [
      "[0.55052749 0.29468981 0.6946704  0.93373997 0.92628213]\n"
     ]
    }
   ],
   "source": [
    "a = np.random.random_sample((5,))\n",
    "print(a)"
   ]
  },
  {
   "cell_type": "code",
   "execution_count": 36,
   "metadata": {},
   "outputs": [
    {
     "name": "stdout",
     "output_type": "stream",
     "text": [
      "[7.02183461 5.66218267 9.66645843 9.78029999 9.52477542 8.09984155\n",
      " 6.04904237]\n"
     ]
    }
   ],
   "source": [
    "# sample between [a, b)\n",
    "# (b - a) * random_sample() + a\n",
    "\n",
    "# sample between [5, 10)\n",
    "a = (10 - 5) * np.random.random_sample(7,) + 5\n",
    "print(a)"
   ]
  },
  {
   "cell_type": "markdown",
   "metadata": {},
   "source": [
    "### uniform(low=0.0, high=1.0, size=None)\n",
    "Draw samples from a uniform distribution"
   ]
  },
  {
   "cell_type": "code",
   "execution_count": 54,
   "metadata": {},
   "outputs": [
    {
     "name": "stdout",
     "output_type": "stream",
     "text": [
      "[0.92992188 0.13533813 0.25383691 0.12597926 0.72835214 0.78898326\n",
      " 0.05810718 0.52693693 0.1113868  0.71623994]\n"
     ]
    }
   ],
   "source": [
    "a = np.random.uniform(0, 1, 10)\n",
    "print(a)"
   ]
  },
  {
   "cell_type": "code",
   "execution_count": null,
   "metadata": {},
   "outputs": [],
   "source": []
  },
  {
   "cell_type": "code",
   "execution_count": null,
   "metadata": {},
   "outputs": [],
   "source": []
  }
 ],
 "metadata": {
  "kernelspec": {
   "display_name": "Python 3",
   "language": "python",
   "name": "python3"
  },
  "language_info": {
   "codemirror_mode": {
    "name": "ipython",
    "version": 3
   },
   "file_extension": ".py",
   "mimetype": "text/x-python",
   "name": "python",
   "nbconvert_exporter": "python",
   "pygments_lexer": "ipython3",
   "version": "3.6.5"
  }
 },
 "nbformat": 4,
 "nbformat_minor": 2
}
