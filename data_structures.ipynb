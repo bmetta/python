{
 "cells": [
  {
   "cell_type": "markdown",
   "metadata": {},
   "source": [
    "### Linkedlist"
   ]
  },
  {
   "cell_type": "code",
   "execution_count": 55,
   "metadata": {},
   "outputs": [
    {
     "name": "stdout",
     "output_type": "stream",
     "text": [
      "20 \n",
      "10 20 \n",
      "10 10 20 \n",
      "10 10 20 30 \n",
      "10 10 20 30 50 \n",
      "10 10 17 20 30 50 \n"
     ]
    }
   ],
   "source": [
    "class ListNode:\n",
    "    def __init__(self, data = None, next_node = None):\n",
    "        self.data = data\n",
    "        self.link = next_node\n",
    "        \n",
    "class OrderedList:\n",
    "    def __init__(self, head = None):\n",
    "        self.head = head\n",
    "    \n",
    "    # sorted insertion of data\n",
    "    def insert(self, node):\n",
    "        if self.head == None:\n",
    "            self.head = node\n",
    "            return\n",
    "        if node.data < self.head.data:\n",
    "            node.link = self.head\n",
    "            self.head = node\n",
    "            return\n",
    "        cur = self.head\n",
    "        while cur.link != None:\n",
    "            if node.data <= cur.link.data:\n",
    "                break\n",
    "            cur = cur.link\n",
    "        node.link = cur.link\n",
    "        cur.link = node\n",
    "    \n",
    "    def display(self):\n",
    "        out = \"\"\n",
    "        cur = self.head\n",
    "        while cur != None:\n",
    "            out = out + str(cur.data) + \" \"\n",
    "            cur = cur.link\n",
    "        print (out)\n",
    "\n",
    "new_list = OrderedList()\n",
    "new_list.insert(ListNode(20)); new_list.display()\n",
    "new_list.insert(ListNode(10)); new_list.display()\n",
    "new_list.insert(ListNode(10)); new_list.display()\n",
    "new_list.insert(ListNode(30)); new_list.display()\n",
    "new_list.insert(ListNode(50)); new_list.display()\n",
    "new_list.insert(ListNode(17)); new_list.display()"
   ]
  },
  {
   "cell_type": "markdown",
   "metadata": {},
   "source": [
    "### Trie"
   ]
  },
  {
   "cell_type": "code",
   "execution_count": 54,
   "metadata": {},
   "outputs": [
    {
     "name": "stdout",
     "output_type": "stream",
     "text": [
      "hell\n",
      "hello\n",
      "hellow\n",
      "hi\n",
      "hi: Present\n",
      "world: Not present\n"
     ]
    }
   ],
   "source": [
    "class TrieNode:\n",
    "    def __init__(self):\n",
    "        self.children = [None]*26\n",
    "        self.isEnd = False\n",
    "        \n",
    "class Trie:\n",
    "    def __init__(self):\n",
    "        self.root = self.getNode()\n",
    "    \n",
    "    def getNode(self):\n",
    "        return TrieNode()\n",
    "        \n",
    "    def insert(self, string):\n",
    "        if string == \"\":\n",
    "            return\n",
    "        \n",
    "        crawl = self.root\n",
    "        for ch in string:\n",
    "            index = ord(ch) - ord('a')\n",
    "            if not crawl.children[index]:\n",
    "                crawl.children[index] = self.getNode()\n",
    "            crawl = crawl.children[index]\n",
    "        crawl.isEnd = True\n",
    "\n",
    "    def search(self, string):\n",
    "        if string == \"\":\n",
    "            return True\n",
    "        crawl = self.root\n",
    "        for ch in string:\n",
    "            index = ord(ch) - ord('a')\n",
    "            if not crawl.children[index]:\n",
    "                return False\n",
    "            crawl = crawl.children[index]\n",
    "        return crawl.isEnd\n",
    "    \n",
    "    def longestCommonPrefix(self):\n",
    "        return self.commonPrefix(self.root, \"\")\n",
    "    \n",
    "    # each node should have only one child\n",
    "    # isEnd reached\n",
    "    def commonPrefix(self, crawl, prefix):\n",
    "        if crawl.isEnd:\n",
    "            return prefix\n",
    "        \n",
    "        # only one child\n",
    "        child_count = 0\n",
    "        for i in range(26):\n",
    "            if crawl.children[i]:\n",
    "                child_count += 1\n",
    "            if child_count > 1:\n",
    "                return prefix\n",
    "        \n",
    "        for i in range(26):\n",
    "            if crawl.children[i]:\n",
    "                ch = chr(i + ord('a'))\n",
    "                return self.commonPrefix(crawl.children[i], prefix + ch)\n",
    "    \n",
    "    def displayUtil(self, crawl, res):\n",
    "        if crawl.isEnd:\n",
    "            print(res)\n",
    "            \n",
    "        for i in range(26):\n",
    "            if crawl.children[i]:\n",
    "                ch = chr(i + ord('a'))\n",
    "                self.displayUtil(crawl.children[i], res + ch)\n",
    "\n",
    "    def display(self):\n",
    "        self.displayUtil(self.root, \"\")\n",
    "\n",
    "t = Trie()\n",
    "t.insert(\"hello\")\n",
    "t.insert(\"hellow\")\n",
    "t.insert(\"hell\")\n",
    "t.insert(\"hi\")\n",
    "t.display()\n",
    "\n",
    "output = [\"Not present\", \"Present\"]\n",
    "print(\"hi:\", output[t.search(\"hi\")])\n",
    "print(\"world:\", output[t.search(\"world\")])"
   ]
  },
  {
   "cell_type": "markdown",
   "metadata": {},
   "source": [
    "### Heap"
   ]
  },
  {
   "cell_type": "code",
   "execution_count": 53,
   "metadata": {},
   "outputs": [
    {
     "name": "stdout",
     "output_type": "stream",
     "text": [
      "[12, 16, 13, 31, 21, 35, 17, 38, 63, 41, 55]\n",
      "12\n",
      "[13, 16, 17, 31, 21, 35, 55, 38, 63, 41]\n",
      "[13, 15, 17, 31, 16, 35, 55, 38, 63, 41, 21]\n"
     ]
    }
   ],
   "source": [
    "# TODO: Time complexity\n",
    "parent = lambda i: (i - 1)//2\n",
    "def heapify(arr):\n",
    "    def balance(arr, p):\n",
    "        low = p\n",
    "        if (2*p + 1) < len(arr) and arr[(2*p + 1)] < arr[low]:\n",
    "            low = 2*p + 1\n",
    "        if (2*p + 2) < len(arr) and arr[(2*p + 2)] < arr[low]:\n",
    "            low = 2*p + 2\n",
    "        if low == p:\n",
    "            return\n",
    "        arr[low], arr[p] = arr[p], arr[low]\n",
    "        balance(arr, low)\n",
    "\n",
    "    if len(arr) < 2:\n",
    "        return\n",
    "    \n",
    "    lastParent = parent(len(arr) - 1)\n",
    "    for p in range(lastParent+1)[::-1]:\n",
    "        balance(arr, p)\n",
    "\n",
    "def heappop(arr):\n",
    "    top = arr[0]\n",
    "    arr[0] = arr[-1]\n",
    "    del arr[-1]\n",
    "    heapify(arr)\n",
    "    return top\n",
    "\n",
    "def heappush(arr, val):\n",
    "    arr.append(val)\n",
    "    i = len(arr) - 1\n",
    "    while arr[i] < arr[parent(i)]:\n",
    "        arr[i], arr[parent(i)] = arr[parent(i)], arr[i]\n",
    "\n",
    "        i = parent(i)\n",
    "    \n",
    "arr = [55, 21, 17, 63, 16, 35, 13, 38, 31, 41, 12]\n",
    "heapify(arr)\n",
    "print(arr)\n",
    "top = heappop(arr)\n",
    "print(top)\n",
    "print(arr)\n",
    "heappush(arr, 15)\n",
    "print(arr)"
   ]
  },
  {
   "cell_type": "markdown",
   "metadata": {},
   "source": [
    "### Trie"
   ]
  },
  {
   "cell_type": "code",
   "execution_count": 52,
   "metadata": {},
   "outputs": [
    {
     "name": "stdout",
     "output_type": "stream",
     "text": [
      "cat\n",
      "cats\n",
      "dog\n",
      "cat True\n",
      "dog True\n",
      "cats True\n",
      "bat False\n",
      "ca False\n"
     ]
    }
   ],
   "source": [
    "import collections\n",
    "_trie = lambda: collections.defaultdict(_trie)\n",
    "\n",
    "class Trie(object):\n",
    "    def __init__(self):\n",
    "        self.trie = _trie()\n",
    "        \n",
    "    def add(self, word):\n",
    "        trie = self.trie\n",
    "        for letter in word:\n",
    "            trie = trie[letter]\n",
    "        trie[None]\n",
    "\n",
    "    def search(self, word):\n",
    "        trie = self.trie\n",
    "        if not trie:\n",
    "            return False\n",
    "\n",
    "        for letter in word:\n",
    "            if not letter in trie:\n",
    "                return False\n",
    "            trie = trie[letter]\n",
    "        return None in trie\n",
    "\n",
    "    def showTree(self):\n",
    "        def helper(trie, word = \"\"):\n",
    "            if None in trie:\n",
    "                print(word)\n",
    "\n",
    "            for letter in trie:\n",
    "                if letter != None:\n",
    "                    helper(trie[letter], word + letter)\n",
    "        helper(self.trie)\n",
    "\n",
    "t = Trie()\n",
    "for word in [\"cat\", \"dog\", \"cats\"]:\n",
    "    t.add(word)\n",
    "t.showTree()\n",
    "\n",
    "for word in [\"cat\", \"dog\", \"cats\", \"bat\", \"ca\"]:\n",
    "    print(word, t.search(word))"
   ]
  },
  {
   "cell_type": "code",
   "execution_count": null,
   "metadata": {},
   "outputs": [],
   "source": []
  }
 ],
 "metadata": {
  "kernelspec": {
   "display_name": "Python 3",
   "language": "python",
   "name": "python3"
  },
  "language_info": {
   "codemirror_mode": {
    "name": "ipython",
    "version": 3
   },
   "file_extension": ".py",
   "mimetype": "text/x-python",
   "name": "python",
   "nbconvert_exporter": "python",
   "pygments_lexer": "ipython3",
   "version": "3.6.5"
  }
 },
 "nbformat": 4,
 "nbformat_minor": 2
}
