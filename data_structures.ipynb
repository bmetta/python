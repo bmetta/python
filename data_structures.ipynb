{
 "cells": [
  {
   "cell_type": "markdown",
   "metadata": {},
   "source": [
    "### Linkedlist"
   ]
  },
  {
   "cell_type": "code",
   "execution_count": 78,
   "metadata": {},
   "outputs": [],
   "source": [
    "class ListNode:\n",
    "    def __init__(self, data = None, next_node = None):\n",
    "        self.data = data\n",
    "        self.link = next_node"
   ]
  },
  {
   "cell_type": "code",
   "execution_count": 79,
   "metadata": {},
   "outputs": [],
   "source": [
    "class OrderedList:\n",
    "    def __init__(self, head = None):\n",
    "        self.head = head\n",
    "    \n",
    "    # sorted insertion of data\n",
    "    def insert(self, node):\n",
    "        if self.head == None:\n",
    "            self.head = node\n",
    "            return\n",
    "        if node.data < self.head.data:\n",
    "            node.link = self.head\n",
    "            self.head = node\n",
    "            return\n",
    "        cur = self.head\n",
    "        while cur.link != None:\n",
    "            if node.data <= cur.link.data:\n",
    "                break\n",
    "            cur = cur.link\n",
    "        node.link = cur.link\n",
    "        cur.link = node\n",
    "    \n",
    "    def display(self):\n",
    "        out = \"\"\n",
    "        cur = self.head\n",
    "        while cur != None:\n",
    "            out = out + str(cur.data) + \" \"\n",
    "            cur = cur.link\n",
    "        print (out)"
   ]
  },
  {
   "cell_type": "code",
   "execution_count": 80,
   "metadata": {},
   "outputs": [
    {
     "name": "stdout",
     "output_type": "stream",
     "text": [
      "20 \n",
      "10 20 \n",
      "10 10 20 \n",
      "10 10 20 30 \n",
      "10 10 20 30 50 \n",
      "10 10 17 20 30 50 \n"
     ]
    }
   ],
   "source": [
    "new_list = OrderedList()\n",
    "new_list.insert(ListNode(20)); new_list.display()\n",
    "new_list.insert(ListNode(10)); new_list.display()\n",
    "new_list.insert(ListNode(10)); new_list.display()\n",
    "new_list.insert(ListNode(30)); new_list.display()\n",
    "new_list.insert(ListNode(50)); new_list.display()\n",
    "new_list.insert(ListNode(17)); new_list.display()"
   ]
  },
  {
   "cell_type": "code",
   "execution_count": null,
   "metadata": {},
   "outputs": [],
   "source": []
  },
  {
   "cell_type": "markdown",
   "metadata": {},
   "source": [
    "### Trie"
   ]
  },
  {
   "cell_type": "code",
   "execution_count": 145,
   "metadata": {},
   "outputs": [],
   "source": [
    "class TrieNode:\n",
    "    def __init__(self):\n",
    "        self.children = [None]*26\n",
    "        self.isEnd = False"
   ]
  },
  {
   "cell_type": "code",
   "execution_count": 231,
   "metadata": {},
   "outputs": [],
   "source": [
    "class Trie:\n",
    "    def __init__(self):\n",
    "        self.root = self.getNode()\n",
    "    \n",
    "    def getNode(self):\n",
    "        return TrieNode()\n",
    "        \n",
    "    def insert(self, string):\n",
    "        if string == \"\":\n",
    "            return\n",
    "        \n",
    "        crawl = self.root\n",
    "        for ch in string:\n",
    "            index = ord(ch) - ord('a')\n",
    "            if not crawl.children[index]:\n",
    "                crawl.children[index] = self.getNode()\n",
    "            crawl = crawl.children[index]\n",
    "        crawl.isEnd = True\n",
    "\n",
    "    def search(self, string):\n",
    "        if string == \"\":\n",
    "            return True\n",
    "        crawl = self.root\n",
    "        for ch in string:\n",
    "            index = ord(ch) - ord('a')\n",
    "            if not crawl.children[index]:\n",
    "                return False\n",
    "            crawl = crawl.children[index]\n",
    "        return crawl.isEnd\n",
    "    \n",
    "    def longestCommonPrefix(self):\n",
    "        return self.commonPrefix(self.root, \"\")\n",
    "    \n",
    "    # each node should have only one child\n",
    "    # isEnd reached\n",
    "    def commonPrefix(self, crawl, prefix):\n",
    "        if crawl.isEnd:\n",
    "            return prefix\n",
    "        \n",
    "        # only one child\n",
    "        child_count = 0\n",
    "        for i in range(26):\n",
    "            if crawl.children[i]:\n",
    "                child_count += 1\n",
    "            if child_count > 1:\n",
    "                return prefix\n",
    "        \n",
    "        for i in range(26):\n",
    "            if crawl.children[i]:\n",
    "                ch = chr(i + ord('a'))\n",
    "                return self.commonPrefix(crawl.children[i], prefix + ch)\n",
    "    \n",
    "    def displayUtil(self, crawl, res):\n",
    "        if crawl.isEnd:\n",
    "            print(res)\n",
    "            \n",
    "        for i in range(26):\n",
    "            if crawl.children[i]:\n",
    "                ch = chr(i + ord('a'))\n",
    "                self.displayUtil(crawl.children[i], res + ch)\n",
    "\n",
    "    def display(self):\n",
    "        self.displayUtil(self.root, \"\")\n",
    "        "
   ]
  },
  {
   "cell_type": "code",
   "execution_count": 232,
   "metadata": {},
   "outputs": [
    {
     "name": "stdout",
     "output_type": "stream",
     "text": [
      "hell\n",
      "hello\n",
      "hellow\n",
      "hi\n",
      "hi: Present\n",
      "world: Not present\n"
     ]
    }
   ],
   "source": [
    "t = Trie()\n",
    "t.insert(\"hello\")\n",
    "t.insert(\"hellow\")\n",
    "t.insert(\"hell\")\n",
    "t.insert(\"hi\")\n",
    "\n",
    "t.display()\n",
    "\n",
    "output = [\"Not present\", \"Present\"]\n",
    "print(\"hi:\", output[t.search(\"hi\")])\n",
    "print(\"world:\", output[t.search(\"world\")])"
   ]
  },
  {
   "cell_type": "code",
   "execution_count": 233,
   "metadata": {},
   "outputs": [
    {
     "name": "stdout",
     "output_type": "stream",
     "text": [
      "heli\n",
      "hello\n",
      "hellow\n",
      "longestCommonPrefix: hel\n"
     ]
    }
   ],
   "source": [
    "t = Trie()\n",
    "t.insert(\"hello\")\n",
    "t.insert(\"hellow\")\n",
    "t.insert(\"heli\")\n",
    "t.display()\n",
    "print(\"longestCommonPrefix:\", t.longestCommonPrefix())"
   ]
  },
  {
   "cell_type": "code",
   "execution_count": null,
   "metadata": {},
   "outputs": [],
   "source": []
  }
 ],
 "metadata": {
  "kernelspec": {
   "display_name": "Python 3",
   "language": "python",
   "name": "python3"
  },
  "language_info": {
   "codemirror_mode": {
    "name": "ipython",
    "version": 3
   },
   "file_extension": ".py",
   "mimetype": "text/x-python",
   "name": "python",
   "nbconvert_exporter": "python",
   "pygments_lexer": "ipython3",
   "version": "3.6.5"
  }
 },
 "nbformat": 4,
 "nbformat_minor": 2
}
