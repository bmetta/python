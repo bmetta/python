{
 "cells": [
  {
   "cell_type": "markdown",
   "metadata": {},
   "source": [
    "### class"
   ]
  },
  {
   "cell_type": "code",
   "execution_count": 36,
   "metadata": {},
   "outputs": [
    {
     "name": "stdout",
     "output_type": "stream",
     "text": [
      "constructor called Parrot\n",
      "constructor called Parrot\n",
      "blue is a bird\n",
      "Blu is 10 year old\n",
      "woo is a bird\n",
      "Woo is 11 year old\n",
      "destructor called Parrot\n",
      "destructor called Parrot\n"
     ]
    }
   ],
   "source": [
    "class Parrot:\n",
    "    # class attributes\n",
    "    species = \"bird\"\n",
    "    \n",
    "    # instance attributes\n",
    "    # constructor\n",
    "    def __init__(self, name, age):\n",
    "        print (\"constructor called {}\".format(self.__class__.__name__))\n",
    "        self.name = name\n",
    "        self.age = age\n",
    "    \n",
    "    def __del__(self):\n",
    "        print (\"destructor called {}\".format(self.__class__.__name__))\n",
    "        \n",
    "def main():\n",
    "    blu = Parrot(\"Blu\", 10)\n",
    "    woo = Parrot(\"Woo\", 11)\n",
    "    \n",
    "    print (\"blue is a {}\".format(blu.__class__.species))\n",
    "    print (\"{} is {} year old\".format(blu.name, blu.age))\n",
    "    \n",
    "    print (\"woo is a {}\".format(blu.__class__.species))\n",
    "    print (\"{} is {} year old\".format(woo.name, woo.age))\n",
    "    \n",
    "if __name__ == '__main__':\n",
    "    main()"
   ]
  },
  {
   "cell_type": "code",
   "execution_count": null,
   "metadata": {},
   "outputs": [],
   "source": []
  },
  {
   "cell_type": "markdown",
   "metadata": {},
   "source": [
    "### inheritance"
   ]
  },
  {
   "cell_type": "code",
   "execution_count": 26,
   "metadata": {},
   "outputs": [
    {
     "name": "stdout",
     "output_type": "stream",
     "text": [
      "Bird is ready\n",
      "Penguin is ready\n",
      "This is Penguin\n",
      "Swims faster\n",
      "Runs faster\n"
     ]
    }
   ],
   "source": [
    "class Bird:\n",
    "    def __init__(self):\n",
    "        print (\"Bird is ready\")\n",
    "        \n",
    "    def whoIsThis(self):\n",
    "        print (\"This is bird\")\n",
    "        \n",
    "    def swim(self):\n",
    "        print (\"Swims faster\")\n",
    "        \n",
    "class Penguin(Bird):\n",
    "    def __init__(self):\n",
    "        # call super function\n",
    "        super().__init__()\n",
    "        print (\"Penguin is ready\")\n",
    "    \n",
    "    def whoIsThis(self):\n",
    "        print (\"This is Penguin\")\n",
    "    \n",
    "    def run(self):\n",
    "        print (\"Runs faster\")\n",
    "\n",
    "def main():\n",
    "    peggy = Penguin()\n",
    "    peggy.whoIsThis()\n",
    "    peggy.swim()\n",
    "    peggy.run()\n",
    "    \n",
    "if __name__ == '__main__':\n",
    "    main()"
   ]
  },
  {
   "cell_type": "markdown",
   "metadata": {},
   "source": [
    "### Polymorphism"
   ]
  },
  {
   "cell_type": "code",
   "execution_count": 41,
   "metadata": {},
   "outputs": [
    {
     "name": "stdout",
     "output_type": "stream",
     "text": [
      "Penguin can't fly\n",
      "Parrot can fly\n"
     ]
    }
   ],
   "source": [
    "class Penguin():\n",
    "    #def __init__(self):\n",
    "    #    print (\"{} ctr\".format(self.__class__.__name__))\n",
    "    #def __del__(self):\n",
    "    #    print (\"{} dtr\".format(self.__class__.__name__))\n",
    "        \n",
    "    def fly(self):\n",
    "        print (\"Penguin can't fly\")\n",
    "\n",
    "    def swim(self):\n",
    "        print (\"Penguin can swim\")\n",
    "\n",
    "class Parrot():\n",
    "    #def __init__(self):\n",
    "    #    print (\"{} ctr\".format(self.__class__.__name__))\n",
    "    #def __del__(self):\n",
    "    #    print (\"{} dtr\".format(self.__class__.__name__))\n",
    "\n",
    "    def fly(self):\n",
    "        print (\"Parrot can fly\")\n",
    "\n",
    "    def swim(self):\n",
    "        print (\"Parrot can't swim\")\n",
    "\n",
    "# common interface allows the polymorphism\n",
    "def flying_test(bird):\n",
    "    bird.fly()\n",
    "    \n",
    "def main():\n",
    "    peng = Penguin()\n",
    "    parr = Parrot()\n",
    "    \n",
    "    flying_test(peng)\n",
    "    flying_test(parr)\n",
    "    \n",
    "if __name__ == '__main__':\n",
    "    main()"
   ]
  },
  {
   "cell_type": "code",
   "execution_count": null,
   "metadata": {},
   "outputs": [],
   "source": []
  },
  {
   "cell_type": "markdown",
   "metadata": {},
   "source": [
    "### operator overloading"
   ]
  },
  {
   "cell_type": "code",
   "execution_count": 48,
   "metadata": {},
   "outputs": [
    {
     "name": "stdout",
     "output_type": "stream",
     "text": [
      "Vector(4, 3)\n"
     ]
    }
   ],
   "source": [
    "class Vector:\n",
    "    def __init__(self, a, b):\n",
    "        self.a = a\n",
    "        self.b = b\n",
    "\n",
    "    def __str__(self):\n",
    "        return (\"Vector(%d, %d)\" % (self.a, self.b))\n",
    "\n",
    "    def __add__(self, other):\n",
    "        return Vector(self.a + other.a, self.b + other.b)\n",
    "    \n",
    "def main():\n",
    "    v1 = Vector(1, 2)\n",
    "    v2 = Vector(3, 1)\n",
    "    print (v1 + v2)\n",
    "    \n",
    "if __name__ == '__main__':\n",
    "    main()"
   ]
  },
  {
   "cell_type": "code",
   "execution_count": null,
   "metadata": {},
   "outputs": [],
   "source": []
  }
 ],
 "metadata": {
  "kernelspec": {
   "display_name": "Python 3",
   "language": "python",
   "name": "python3"
  },
  "language_info": {
   "codemirror_mode": {
    "name": "ipython",
    "version": 3
   },
   "file_extension": ".py",
   "mimetype": "text/x-python",
   "name": "python",
   "nbconvert_exporter": "python",
   "pygments_lexer": "ipython3",
   "version": "3.6.5"
  }
 },
 "nbformat": 4,
 "nbformat_minor": 2
}
